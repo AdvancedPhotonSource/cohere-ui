{
 "cells": [
  {
   "cell_type": "code",
   "execution_count": 1,
   "id": "a57df893-063d-45b1-aa06-473405b7a13a",
   "metadata": {},
   "outputs": [],
   "source": [
    "import os"
   ]
  },
  {
   "cell_type": "code",
   "execution_count": 2,
   "id": "a6231a71-268d-414c-9669-4ac59b8d1294",
   "metadata": {},
   "outputs": [
    {
     "name": "stdout",
     "output_type": "stream",
     "text": [
      "/home/phoebus3/BFROSIK/coh_op_flow/cohere-ui/cohere-scripts\n"
     ]
    }
   ],
   "source": [
    "print(os.getcwd())"
   ]
  },
  {
   "cell_type": "code",
   "execution_count": 3,
   "id": "861ca2ab-9bf0-421d-b871-7959b970d588",
   "metadata": {},
   "outputs": [],
   "source": [
    "import beamline_preprocess as bp"
   ]
  },
  {
   "cell_type": "code",
   "execution_count": 4,
   "id": "ad8243fa-cbd1-4beb-ad6b-016f2cf06272",
   "metadata": {},
   "outputs": [
    {
     "name": "stdout",
     "output_type": "stream",
     "text": [
      "pre-processing data\n",
      "XU.io.SPECScan.ReadData: scan_54: 201 25 25\n",
      "finished beamline preprocessing\n"
     ]
    },
    {
     "data": {
      "text/plain": [
       "''"
      ]
     },
     "execution_count": 4,
     "metadata": {},
     "output_type": "execute_result"
    }
   ],
   "source": [
    "bp.handle_prep('../example_workspace/scan_54')"
   ]
  },
  {
   "cell_type": "code",
   "execution_count": 5,
   "id": "c4531a11-9a64-45da-88b6-eeb964ff071f",
   "metadata": {},
   "outputs": [],
   "source": [
    "import standard_preprocess as stp"
   ]
  },
  {
   "cell_type": "code",
   "execution_count": 6,
   "id": "d2e27c3f-20e2-4f54-86d7-80b9f1c226ac",
   "metadata": {},
   "outputs": [
    {
     "name": "stdout",
     "output_type": "stream",
     "text": [
      "formatting data\n",
      "Loaded array (max=121942) as ../example_workspace/scan_54/preprocessed_data/prep_data.tif\n",
      "data ready for reconstruction, data dims: (256, 256, 240)\n"
     ]
    }
   ],
   "source": [
    "stp.format_data('../example_workspace/scan_54')"
   ]
  },
  {
   "cell_type": "code",
   "execution_count": 7,
   "id": "dba7cae0-da51-4f8e-927d-bb16dd3d4a50",
   "metadata": {},
   "outputs": [],
   "source": [
    "import run_reconstruction as rr"
   ]
  },
  {
   "cell_type": "raw",
   "id": "82736b41-291d-44c2-be05-be2b5e9d1d5d",
   "metadata": {},
   "source": [
    "rr.manage_reconstruction('../example_workspace/scan_54')"
   ]
  },
  {
   "cell_type": "code",
   "execution_count": 9,
   "id": "6b440067-3f01-4afc-8818-938f4f7dd099",
   "metadata": {},
   "outputs": [
    {
     "name": "stdout",
     "output_type": "stream",
     "text": [
      "started reconstruction\n",
      "data shape (256, 256, 240)\n",
      "------iter 0   error 6.978983779061893e+24\n",
      "------iter 20   error 0.06351379003539515\n",
      "------iter 40   error 0.3139560478569768\n",
      "------iter 60   error 0.42651671337618574\n",
      "------iter 80   error 0.5255867688165627\n",
      "------iter 100   error 0.5580607036415708\n",
      "------iter 120   error 0.6070699770491896\n",
      "------iter 140   error 0.6592581154225223\n",
      "------iter 160   error 0.7086587442641697\n",
      "------iter 180   error 0.7805255434961027\n",
      "------iter 200   error 0.7980355782109819\n",
      "------iter 220   error 0.012910462288918383\n",
      "------iter 240   error 0.2999780356938828\n",
      "------iter 260   error 0.424824936339093\n",
      "------iter 280   error 0.5060017725165131\n",
      "------iter 300   error 0.577899491401939\n",
      "------iter 320   error 0.6573023651187073\n",
      "------iter 340   error 0.6929733652031985\n",
      "------iter 360   error 0.7080774633272752\n",
      "------iter 380   error 0.7784592723495082\n",
      "------iter 400   error 0.7647726820346117\n",
      "------iter 420   error 0.012680054944693753\n",
      "------iter 440   error 0.2817169416885669\n",
      "------iter 460   error 0.4260709948434891\n",
      "------iter 480   error 0.5091255995237551\n",
      "------iter 500   error 0.5374778299212412\n",
      "------iter 520   error 0.609031057338371\n",
      "------iter 540   error 0.6841702746240665\n",
      "------iter 560   error 0.6887439063257066\n",
      "------iter 580   error 0.7492212264638473\n",
      "------iter 600   error 0.7783287824902535\n",
      "------iter 619   error 0.012856819083274575\n",
      "iterate took  22.535215616226196  sec\n"
     ]
    }
   ],
   "source": [
    "rr.manage_reconstruction('../example_workspace/scan_54')"
   ]
  },
  {
   "cell_type": "code",
   "execution_count": 10,
   "id": "27278007-d838-4652-a305-b04607e69cc3",
   "metadata": {},
   "outputs": [],
   "source": [
    "import beamline_visualization as bv"
   ]
  },
  {
   "cell_type": "code",
   "execution_count": 11,
   "id": "0fad8306-3962-4315-8f8a-a2711a38779c",
   "metadata": {},
   "outputs": [
    {
     "name": "stdout",
     "output_type": "stream",
     "text": [
      "starting visualization process\n",
      "XU.io.SPECScan.ReadData: scan_54: 201 25 25\n",
      "XU.io.SPECScan.ReadData: scan_54: 201 25 25\n",
      "XU.io.SPECScan.ReadData: scan_54: 201 25 25\n",
      "saved file ../example_workspace/scan_54/results_viz/image\n",
      "saved file ../example_workspace/scan_54/results_viz/0/image\n",
      "saved file ../example_workspace/scan_54/results_viz/1/image\n",
      "saved file ../example_workspace/scan_54/results_viz/support\n",
      "saved file ../example_workspace/scan_54/results_viz/1/supportsaved file ../example_workspace/scan_54/results_viz/0/support\n",
      "\n",
      "done with processing display\n"
     ]
    },
    {
     "data": {
      "text/plain": [
       "''"
      ]
     },
     "execution_count": 11,
     "metadata": {},
     "output_type": "execute_result"
    }
   ],
   "source": [
    "bv.handle_visualization('../example_workspace/scan_54')"
   ]
  },
  {
   "cell_type": "code",
   "execution_count": null,
   "id": "6cbd48a2-e93e-4a8e-9228-aa27903de0ad",
   "metadata": {},
   "outputs": [],
   "source": []
  }
 ],
 "metadata": {
  "kernelspec": {
   "display_name": "Python 3 (ipykernel)",
   "language": "python",
   "name": "python3"
  },
  "language_info": {
   "codemirror_mode": {
    "name": "ipython",
    "version": 3
   },
   "file_extension": ".py",
   "mimetype": "text/x-python",
   "name": "python",
   "nbconvert_exporter": "python",
   "pygments_lexer": "ipython3",
   "version": "3.10.11"
  }
 },
 "nbformat": 4,
 "nbformat_minor": 5
}
