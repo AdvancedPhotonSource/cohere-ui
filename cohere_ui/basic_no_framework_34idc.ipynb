{
 "cells": [
  {
   "cell_type": "code",
   "execution_count": 10,
   "id": "59cf0177-a4f4-4b97-8434-7d17c21ff11e",
   "metadata": {},
   "outputs": [
    {
     "name": "stdout",
     "output_type": "stream",
     "text": [
      "experiment directory: /home/phoebus3/BFROSIK/coh-dev/cohere-ui/example_workspace/scan_54\n"
     ]
    }
   ],
   "source": [
    "# This example uses data from scan_54 from cohere-ui/example_workspace.\n",
    "# This example does not use configuration files but defines parameters in dictionaries.\n",
    "# The experiment_dir is defined the same as in a cohere-ui framework for easy of use.\n",
    "import os\n",
    "import cohere_core.utilities as ut\n",
    "experiment_dir = os.path.join(os.path.dirname(os.getcwd()), 'example_workspace', 'scan_54')\n",
    "print('experiment directory:', experiment_dir)"
   ]
  },
  {
   "cell_type": "code",
   "execution_count": 12,
   "id": "59d18a79-07f7-46cb-b393-c71559e6391d",
   "metadata": {},
   "outputs": [
    {
     "name": "stdout",
     "output_type": "stream",
     "text": [
      "save file /home/phoebus3/BFROSIK/coh-dev/cohere-ui/example_workspace/scan_54/preprocessed_data/prep_data.tif\n",
      "shape (256, 256, 201)\n"
     ]
    }
   ],
   "source": [
    "# beamline preprocess\n",
    "import cohere_ui.beamlines.aps_34idc.detectors as det\n",
    "\n",
    "prep_params = {'data_dir' : \"/home/phoebus3/BFROSIK/cohere/cohere-ui/example_data/AD34idcTIM2_example\",\n",
    "               'darkfield_filename' : \"/home/phoebus3/BFROSIK/cohere/cohere-ui/example_data/dark.tif\",\n",
    "               'whitefield_filename' : \"/home/phoebus3/BFROSIK/cohere/cohere-ui/example_data/whitefield.tif\",\n",
    "               'roi' : [0, 256, 0, 256, 1]}\n",
    "\n",
    "det_obj = det.create_detector('34idcTIM2', prep_params)\n",
    "# get directory where scan data is\n",
    "scan = 54\n",
    "# The function datainfo4scans handles all cases, such as list of scan ranges.\n",
    "#Therefore a single scan needs to be passed as a single sublist representing single scan range.\n",
    "scans_datainfo = det_obj.dirs4scans([[54]])\n",
    "\n",
    "# For one scan the preprocessing is very simple and the code is copied here from beamlines.simple.preprocessor.\n",
    "# For cases with multiple scans, scan ranges it would be best to import aps_34idc beamline preprocessor and call the process_batch function.\n",
    "arr = det_obj.get_scan_array(scans_datainfo[0][0][1])\n",
    "# create the directory where the data should be saved and save it in tif file\n",
    "save_dir = ut.join(experiment_dir, 'preprocessed_data')\n",
    "if not os.path.exists(save_dir):\n",
    "    os.makedirs(save_dir)\n",
    "save_file = ut.join(save_dir, 'prep_data.tif')\n",
    "print('save file', save_file)\n",
    "print('shape', arr.shape)"
   ]
  },
  {
   "cell_type": "code",
   "execution_count": 13,
   "id": "667b16b1-4149-4b16-a297-11b200c49a0f",
   "metadata": {},
   "outputs": [
    {
     "name": "stdout",
     "output_type": "stream",
     "text": [
      "data ready for reconstruction, data dims: (256, 256, 216)\n"
     ]
    },
    {
     "data": {
      "text/plain": [
       "{'intensity_threshold': 2.0, 'binning': [1, 1, 1]}"
      ]
     },
     "execution_count": 13,
     "metadata": {},
     "output_type": "execute_result"
    }
   ],
   "source": [
    "# standard preprocess\n",
    "import cohere_core.data as fd\n",
    "\n",
    "# the conf was found in preprocessing segment\n",
    "auto_intensity_threshold = False\n",
    "binning = [1,1,1]\n",
    "# The parameters cold be an empty dict if auto_data is True\n",
    "data_params = {'intensity_threshold' : 2.0, 'binning' : binning}\n",
    "# directory where the standard preprocessed data will be stored\n",
    "data_dir = ut.join(experiment_dir, \"phasing_data\")\n",
    "if not os.path.exists(data_dir):\n",
    "    os.makedirs(data_dir)\n",
    "# the input data file that was beaamline preprocessed\n",
    "data_file = ut.join(experiment_dir, \"preprocessed_data\", \"prep_data.tif\")\n",
    "fd.prep(data_file, **data_params)"
   ]
  },
  {
   "cell_type": "code",
   "execution_count": 14,
   "id": "c71de2e5-8440-4d86-9c5d-1199aeef4e1e",
   "metadata": {},
   "outputs": [
    {
     "name": "stdout",
     "output_type": "stream",
     "text": [
      "data shape (256, 256, 216)\n",
      "------iter 0   error 4.5760930257371653e+24\n",
      "------iter 20   error 0.08297653615331974\n",
      "------iter 40   error 0.34818354353327574\n",
      "------iter 60   error 0.4094038705063144\n",
      "------iter 80   error 0.5007501256704466\n",
      "------iter 100   error 0.6050590378047745\n",
      "------iter 120   error 0.6869902114731805\n",
      "------iter 140   error 0.7402884438828295\n",
      "------iter 160   error 0.7646154090676293\n",
      "------iter 180   error 0.8087536136553172\n",
      "------iter 200   error 0.8405950860124545\n",
      "------iter 220   error 0.012774843589316532\n",
      "------iter 240   error 0.3006841301530598\n",
      "------iter 260   error 0.4091173336358088\n",
      "------iter 280   error 0.49514775902803304\n",
      "------iter 300   error 0.610370378242241\n",
      "------iter 320   error 0.6818565642457314\n",
      "------iter 340   error 0.7207417972710396\n",
      "------iter 360   error 0.7360916135341322\n",
      "------iter 380   error 0.7809265616545058\n",
      "------iter 400   error 0.7843517048160722\n",
      "------iter 420   error 0.012572399390790415\n",
      "------iter 440   error 0.29338728647693224\n",
      "------iter 460   error 0.42861115014458556\n",
      "------iter 480   error 0.5202262742642253\n",
      "------iter 500   error 0.5813215048280794\n",
      "------iter 520   error 0.624270473869752\n",
      "------iter 540   error 0.7102300310211835\n",
      "------iter 560   error 0.7128044890005595\n",
      "------iter 580   error 0.7862847907696268\n",
      "------iter 600   error 0.8279240820839188\n",
      "------iter 619   error 0.013639493441497338\n",
      "iterate took  24.25333595275879  sec\n"
     ]
    },
    {
     "data": {
      "text/plain": [
       "0"
      ]
     },
     "execution_count": 14,
     "metadata": {},
     "output_type": "execute_result"
    }
   ],
   "source": [
    "# phasing\n",
    "import cohere_core.controller as rec\n",
    "\n",
    "rec_params = {'reconstructions' : 1,\n",
    "             'processing' : \"auto\", \n",
    "             'device' : [0],\n",
    "             'algorithm_sequence' : \"3*(20*ER+180*HIO)+20*ER\",\n",
    "             'hio_beta' : 0.9,\n",
    "             'initial_support_area' : [0.5, 0.5, 0.5],\n",
    "             'shrink_wrap_trigger' : [1, 1],\n",
    "             'shrink_wrap_type' : \"GAUSS\",\n",
    "             'shrink_wrap_threshold' : 0.1,\n",
    "             'shrink_wrap_gauss_sigma' : 1.0,\n",
    "             'twin_trigger' : [2],\n",
    "             'twin_halves' : [0, 0],\n",
    "             'progress_trigger' : [0, 20]}\n",
    "\n",
    "# select the package to run reconstruction: 'cp' for cupy, 'np' for numpy, and 'torch' for torch.\n",
    "pkg = 'cp'\n",
    "# Select the GPU id to use\n",
    "device = 0\n",
    "phasing_data_file = ut.join(experiment_dir, \"phasing_data\", \"data.tif\")\n",
    "worker = rec.create_rec(rec_params, phasing_data_file, pkg, device)\n",
    "worker.iterate()\n",
    "ph_res_dir = os.path.join(experiment_dir, 'results_phasing')\n",
    "worker.save_res(ph_res_dir)\n"
   ]
  },
  {
   "cell_type": "code",
   "execution_count": 15,
   "id": "ef0adc17-6374-446a-ac8c-359e8d9648cc",
   "metadata": {},
   "outputs": [
    {
     "name": "stdout",
     "output_type": "stream",
     "text": [
      "[[ 4.31253622e-03  6.53169704e-04  6.56415337e-04]\n",
      " [ 3.46344901e-05 -4.85706782e-03 -2.59462547e-15]\n",
      " [-2.55187340e-03  1.04569957e-03  1.95864767e-03]] [[ 1215.33462947     8.66623584  1578.80249702]\n",
      " [   75.7458102  -1293.07683606   789.04625695]\n",
      " [ -407.30362154    -2.90437642  2678.80497735]]\n"
     ]
    }
   ],
   "source": [
    "# post processing\n",
    "# this part will only create the vts file and will be extended in another notebook example\n",
    "import cohere_ui.beamlines.aps_34idc.diffractometers as dif\n",
    "import numpy as np\n",
    "\n",
    "image = np.load(os.path.join(ph_res_dir, 'image.npy'))\n",
    "support = np.load(os.path.join(ph_res_dir, 'support.npy'))\n",
    "\n",
    "# The first step of visualization is creating vts file\n",
    "\n",
    "# directory to save visualization results\n",
    "save_dir = os.path.join(experiment_dir, \"results_viz\")\n",
    "if not os.path.exists(save_dir):\n",
    "    os.makedirs(save_dir)\n",
    "\n",
    "instr_params = {'diffractometer' : \"34idc\",\n",
    "                'energy' : 9.0,\n",
    "                'delta' : 32.174,\n",
    "                'gamma' : 12.6346,\n",
    "                'detdist' : 500.0,\n",
    "                'th' : 0.2200042,\n",
    "                'chi' : 90.0,\n",
    "                'phi' : -5.0,\n",
    "                'scanmot' : \"th\",\n",
    "                'scanmot_del' : 0.005,\n",
    "                'detector' : \"34idcTIM2\"}\n",
    "\n",
    "# add binning\n",
    "instr_params.update({'binning' : binning})\n",
    "\n",
    "# creeate diffractometer\n",
    "diff_obj = dif.Diffractometer_34idc({})  # passing in empty dir, as specfile is ot used in this example\n",
    "\n",
    "# get geometry\n",
    "geometry = diff_obj.get_geometry(image.shape, 54, instr_params)\n",
    "(Trecip, Tdir) = geometry\n",
    "print(Trecip, Tdir)\n",
    "\n",
    "import cohere_ui.api.postprocess_utils as pu\n",
    "\n",
    "viz_params = {'unwrap' : False,\n",
    "              'make_twin' : False,\n",
    "              'imcrop' : 'fraction',\n",
    "              'imcrop_fraction' : [.4,.4,.4]}\n",
    "config_maps = {'config_disp' : viz_params}\n",
    "\n",
    "complex_mode = 'AmpPhase'\n",
    "filename = ut.join(save_dir, f'direct_space_images_{complex_mode}.vts')\n",
    "dir_viz = pu.make_image_viz(geometry, image, support,config_maps)\n",
    "dir_viz.write(filename, complex_mode=complex_mode)\n"
   ]
  },
  {
   "cell_type": "code",
   "execution_count": 16,
   "id": "d3d4d83d-3fbf-4818-9776-655a2cec3c28",
   "metadata": {},
   "outputs": [],
   "source": [
    "# add interpolation\n",
    "viz_params = {'determine_resolution' : 'deconv',\n",
    "              'resolution_deconv_contrast' : .25}\n",
    "config_maps = {'config_disp' : viz_params}\n",
    "\n",
    "res_viz_d, res_viz_r = pu.make_resolution_viz(geometry, np.abs(image), config_maps)\n",
    "res_ssg = res_viz_d.get_structured_grid()\n",
    "res_arr = res_ssg.point_data['resolution']\n",
    "# because of [::-1] to get array indexing right the x axis in paraview is last axis in array.\n",
    "res_arr.shape = res_ssg.dimensions[::-1]\n",
    "res_bounds = pu.find_datarange(res_arr, 0, 0.5)\n",
    "r1 = np.dot(geometry[1], [res_bounds[0] / res_arr.shape[0], 0, 0])\n",
    "r2 = np.dot(geometry[1], [0, res_bounds[1] / res_arr.shape[1], 0])\n",
    "r3 = np.dot(geometry[1], [0, 0, res_bounds[2] / res_arr.shape[2]])\n",
    "# interpolate at half the smallest value.\n",
    "interpolation_resolution = min([np.linalg.norm(r1), np.linalg.norm(r2), np.linalg.norm(r3)]) / 2\n",
    "interpolation_mode = 'ReIm'\n",
    "interpolated_data = pu.get_interpolated_arrays(dir_viz, interpolation_resolution, interpolation_mode=interpolation_mode)\n",
    "filename = ut.join(save_dir, f'direct_space_images_interpolated_{interpolation_mode}.vti')\n",
    "interpolated_data.point_data['imAmp'] = np.abs(interpolated_data.point_data['imRe'] + 1j * interpolated_data.point_data['imImag'])\n",
    "interpolated_data.point_data['imPh'] = np.angle(interpolated_data.point_data['imRe'] + 1j * interpolated_data.point_data['imImag'])\n",
    "interpolated_data.save(filename)\n"
   ]
  },
  {
   "cell_type": "code",
   "execution_count": 17,
   "id": "10da302f-a7d2-445b-8312-779d9b0459b5",
   "metadata": {},
   "outputs": [],
   "source": [
    "# Suppose one wants interpolated arrays but with the imcrop set to \"tight'\n",
    "# One has to create new dir_viz first with parameters set to new values.\n",
    "viz_params = {'unwrap' : False,\n",
    "              'make_twin' : False,\n",
    "              'imcrop' : 'tight',\n",
    "              'imcrop_margin' : 10,\n",
    "              'imcrop_thresh' : .5}\n",
    "config_maps = {'config_disp' : viz_params}\n",
    "dir_viz = pu.make_image_viz(geometry, image, support, config_maps)\n",
    "# resolution has been calculated in previous cell\n",
    "interpolated_data = pu.get_interpolated_arrays(dir_viz, interpolation_resolution, interpolation_mode=interpolation_mode)\n",
    "filename = ut.join(save_dir, f'direct_space_images_interpolated_{interpolation_mode}_tight.vti')\n",
    "interpolated_data.point_data['imAmp'] = np.abs(interpolated_data.point_data['imRe'] + 1j * interpolated_data.point_data['imImag'])\n",
    "interpolated_data.point_data['imPh'] = np.angle(interpolated_data.point_data['imRe'] + 1j * interpolated_data.point_data['imImag'])\n",
    "interpolated_data.save(filename)\n"
   ]
  },
  {
   "cell_type": "code",
   "execution_count": 18,
   "id": "24ee2053-60d5-477a-848e-b80d48b42061",
   "metadata": {
    "scrolled": true
   },
   "outputs": [],
   "source": [
    "# reciprocal\n",
    "dfile = ut.join(*(os.path.split(save_dir)[0], \"phasing_data\", \"data.tif\"))\n",
    "d = ut.read_tif(dfile)\n",
    "ftim = np.fft.ifftshift(np.fft.ifftn(np.fft.fftshift(image), norm='forward'))\n",
    "dviz = pu.make_recip_viz(geometry, np.abs(d), ftim)\n",
    "dviz.write(ut.join(save_dir, \"reciprocal_space.vts\"))\n"
   ]
  },
  {
   "cell_type": "code",
   "execution_count": null,
   "id": "e4bb71c9-11eb-41d8-a14f-0196412fabe6",
   "metadata": {},
   "outputs": [],
   "source": []
  }
 ],
 "metadata": {
  "kernelspec": {
   "display_name": "Python 3 (ipykernel)",
   "language": "python",
   "name": "python3"
  },
  "language_info": {
   "codemirror_mode": {
    "name": "ipython",
    "version": 3
   },
   "file_extension": ".py",
   "mimetype": "text/x-python",
   "name": "python",
   "nbconvert_exporter": "python",
   "pygments_lexer": "ipython3",
   "version": "3.11.13"
  }
 },
 "nbformat": 4,
 "nbformat_minor": 5
}
